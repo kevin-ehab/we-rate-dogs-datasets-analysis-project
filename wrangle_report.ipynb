{
 "cells": [
  {
   "cell_type": "markdown",
   "metadata": {},
   "source": [
    "# Reporting: wragle_report"
   ]
  },
  {
   "cell_type": "markdown",
   "metadata": {},
   "source": [
    "<h2> Introduction:</h2>\n",
    "<p>This project involved gathering, assessing, and cleaning data related to Twitter posts from `WeRateDogs` and the goal was to produce a high quality dataset suitable for analysis of dog ratings, predicted breeds, and social engagement metrics like retweets and favorites.</p>\n",
    "<h2>1. Data Gathering </h2><br>\n",
    "Data was gathered from 3 diffrernt sources:<br>\n",
    "    <ul>\n",
    "    <li><strong>Twitter Archive (CSV file)</strong> : The enhanced Twitter archive provided by WeRateDogs was read into a DataFrame using pandas.read_csv.\n",
    "    <li><strong>image Predictions (TSV file)</strong>: This dataset, which includes image-based dog breed predictions from a neural network model, was also loaded via pandas.read_csv.\n",
    "    <li><strong>Tweet JSON Data</strong>: Additional tweet data, such as retweet and favorite counts, was retrieved from the Twitter API using Tweepy and stored in a local JSON file, then loaded into Python for further processing.\n",
    "   </ul>\n",
    "<h2>2. Data Assessment </h2><br>\n",
    "The gathered datasets were assessed both visually and programmatically for tidiness and quality issues. Key issues identified included:<br>\n",
    "    <ul>\n",
    "    <li>Missing and invalid values in columns such as name, rating_numerator, and expanded_urls.\n",
    "    <li>Inconsistent dog name entries, with many entries being filler words (\"a\", \"the\", \"an\") instead of actual names.\n",
    "    <li>Multiple representations of dog stages (doggo, floofer, pupper, puppo) needing to be consolidated into a single column.\n",
    "    <li>Duplicates and retweets, which were not relevant for original tweet analysis, needed to be removed.\n",
    "   </ul>\n",
    "<h2>3. Data Cleaning</h2><br>\n",
    "The cleaning phase included:<br>\n",
    "    <ul>\n",
    "    <li>Type conversions: The timestamp column was converted to datetime, and numerical columns were cast to appropriate data types.\n",
    "    <li>Column renaming and creation: Derived columns such as ratings_out_of_10 and rating_percentage were created from parsed tweet texts.\n",
    "    <li>Filtering invalid names: A list of invalid name entries (\"a\", \"None\", \"the\") was used to standardize dog names and replace them with \"Unknown\".\n",
    "    <li>Combining dog stage columns: A new column dog_state(s) was created to consolidate the various dog stage indicators.\n",
    "    <li>Merging datasets: The three data sources were merged using the tweet_id as the key, ensuring only original tweets with complete information were retained.\n",
    "   </ul>\n",
    "<h2>Conclusion of the project wrangling:</h2><br>\n",
    "This wrangling process resulted in a cleaned and unified dataset with enriched features ready for exploratory analysis. It combined textual parsing, API data augmentation, and image classification data, while carefully filtering and reshaping the information to address issues in quality, completeness, and structure."
   ]
  }
 ],
 "metadata": {
  "kernelspec": {
   "display_name": "Python 3",
   "language": "python",
   "name": "python3"
  },
  "language_info": {
   "codemirror_mode": {
    "name": "ipython",
    "version": 3
   },
   "file_extension": ".py",
   "mimetype": "text/x-python",
   "name": "python",
   "nbconvert_exporter": "python",
   "pygments_lexer": "ipython3",
   "version": "3.6.3"
  }
 },
 "nbformat": 4,
 "nbformat_minor": 2
}
